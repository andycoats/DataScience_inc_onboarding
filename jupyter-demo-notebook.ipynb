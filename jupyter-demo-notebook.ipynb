{
 "cells": [
  {
   "cell_type": "markdown",
   "metadata": {
    "_datascience": {}
   },
   "source": [
    "### Introduction\n",
    "Imagine that you are a data scientist at a company that has to perform dynamic inventory management. An example of that would be a ride-sharing company where you want to know which parts of a city to direct your drivers to depending on the time of day and other factors.\n",
    "\n",
    "Here we'll perform an analysis and then publish these findings as an easily-consumable Report for collaborators and business users."
   ]
  },
  {
   "cell_type": "code",
   "execution_count": 1,
   "metadata": {
    "_datascience": {},
    "collapsed": true
   },
   "outputs": [],
   "source": [
    "### Import helper_functions\n",
    "source(\"./helper_functions.R\")"
   ]
  },
  {
   "cell_type": "code",
   "execution_count": null,
   "metadata": {
    "_datascience": {},
    "scrolled": true
   },
   "outputs": [],
   "source": [
    "### Install and import required packages\n",
    "# We are using a helper function that takes the name of a package as argument\n",
    "# Checks if it's installed and installs it if not\n",
    "# Loads the package\n",
    "# List of required packages\n",
    "package_list = c(\"devtools\", \"ggmap\", \"ggplot2\"\n",
    "                 , \"dplyr\", \"tidyr\", \"scales\")\n",
    "\n",
    "# Call on helper function to install and import packages\n",
    "for (package in package_list) {\n",
    "    usePackage(package)\n",
    "}"
   ]
  },
  {
   "cell_type": "code",
   "execution_count": null,
   "metadata": {
    "_datascience": {},
    "collapsed": true
   },
   "outputs": [],
   "source": [
    "### Set plotting parameters and import color palettes\n",
    "set_ds_theme()"
   ]
  },
  {
   "cell_type": "markdown",
   "metadata": {
    "_datascience": {}
   },
   "source": [
    "### Load data\n",
    "The data is in `data/processed_uber_nyc.RData` and contains two dataframes:\n",
    "1. `agg_data`\n",
    "2. `zone_polys`"
   ]
  },
  {
   "cell_type": "code",
   "execution_count": null,
   "metadata": {
    "_datascience": {},
    "collapsed": true
   },
   "outputs": [],
   "source": [
    "load(\"data/processed_uber_nyc.RData\")"
   ]
  },
  {
   "cell_type": "markdown",
   "metadata": {
    "_datascience": {}
   },
   "source": [
    "### About the data\n",
    "\n",
    "The source of the data for this exercise is the [Uber Pickups in New York City dataset by FiveThirtyEight](https://www.kaggle.com/fivethirtyeight/uber-pickups-in-new-york-city). Pickup data for 20 million pickeups are aggregated by hour, date, and taxi zone (i.e., an approximate neighborhood) and enriched with calendar and weather data. More detailed information about each dataframe is below."
   ]
  },
  {
   "cell_type": "markdown",
   "metadata": {
    "_datascience": {}
   },
   "source": [
    "#### agg_data\n",
    "This dataframe contains information about the number of pickups.\n",
    "\n",
    "Fields:\n",
    "* `locationID`: unique ID for each taxi zone\n",
    "* `date`\n",
    "* `hour`: 24H format\n",
    "* `borough`: Borough that the zone is located in (e.g. Manhattan, Boorklyn, Queens)\n",
    "* `zone`: Name of the taxi zone (e.g. Times Sq, Chinatown, Central Harlem)\n",
    "* `picksups`: Number of pickups\n",
    "* `day`: Day of week (e.g. Mon, Tue, Wed)\n",
    "* `is_holiday`: Whether that day was a holiday (Boolean)\n",
    "* `mean_temp_F`: Mean temperature that day in Fahrenheit"
   ]
  },
  {
   "cell_type": "code",
   "execution_count": null,
   "metadata": {
    "_datascience": {},
    "collapsed": true
   },
   "outputs": [],
   "source": [
    "head(agg_data, 3)"
   ]
  },
  {
   "cell_type": "markdown",
   "metadata": {
    "_datascience": {}
   },
   "source": [
    "#### zone_polys\n",
    "This is a dimension table that describes the boundaries of each taxi zone.\n",
    "\n",
    "Fields:\n",
    "* `long`: Longitude\n",
    "* `lat`: Latitude\n",
    "* `order`: Rank of point when drawing boundary\n",
    "* `hole`: Whether to plot a hole in that location (Boolean)\n",
    "* `piece`: The piece of the zone that the point is associated with\n",
    "* `id`: ID of zone. Same as locationID in agg_data\n",
    "* `group`: Group that the point belongs to"
   ]
  },
  {
   "cell_type": "code",
   "execution_count": null,
   "metadata": {
    "_datascience": {},
    "collapsed": true
   },
   "outputs": [],
   "source": [
    "head(zone_polys, 3)"
   ]
  },
  {
   "cell_type": "markdown",
   "metadata": {
    "_datascience": {},
    "collapsed": true
   },
   "source": [
    "### Exploratory analysis"
   ]
  },
  {
   "cell_type": "markdown",
   "metadata": {
    "_datascience": {}
   },
   "source": [
    "#### What areas experience the highest demand?"
   ]
  },
  {
   "cell_type": "code",
   "execution_count": null,
   "metadata": {
    "_datascience": {}
   },
   "outputs": [],
   "source": [
    "# Calculate daily mean pickups of each taxi zone\n",
    "geo_pickups = agg_data %>%\n",
    "    group_by(locationID, date) %>%\n",
    "    summarize(day_pickups = sum(pickups)) %>%\n",
    "    group_by(locationID) %>%\n",
    "    summarize(mean_pickup = mean(day_pickups))\n",
    "\n",
    "# Get top and bottom zones\n",
    "locID_zone_dim = locID_zone_dim = unique(agg_data[, c(\"locationID\", \"zone\")])\n",
    "top_zone = geo_pickups[which.max(geo_pickups$mean_pickup), ] %>%\n",
    "    left_join(locID_zone_dim, by = \"locationID\") \n",
    "bottom_zone = geo_pickups[which.min(geo_pickups$mean_pickup), ] %>%\n",
    "    left_join(locID_zone_dim, by = \"locationID\") \n",
    "\n",
    "# Visualize this data as a heatmap\n",
    "heatmap = right_join(zone_polys, geo_pickups, by = c(\"id\" = \"locationID\"))\n",
    "ggplot() + \n",
    "    geom_polygon(data = heatmap\n",
    "                 , aes(x = long, y = lat, group = id, fill = mean_pickup)\n",
    "                 , color = \"black\"\n",
    "                 , size = 0.25) + \n",
    "    scale_fill_continuous(cont_gradient\n",
    "                         , name = \"Mean pickups per day\"\n",
    "                         , breaks = pretty_breaks (n = 7)) + \n",
    "    annotate(\"text\"\n",
    "             , x = -74.25\n",
    "             , y = 40.9\n",
    "             , label = paste(\"Highest demand: \", as.character(top_zone$zone))\n",
    "             , hjust = 0\n",
    "             , size = 3) +\n",
    "    annotate(\"text\"\n",
    "             , x = -74.25\n",
    "             , y = 40.87\n",
    "             , label = paste(\"Lowest demand: \", as.character(bottom_zone$zone))\n",
    "             , hjust = 0\n",
    "             , size = 3) +\n",
    "    guides(fill = guide_legend(reverse = TRUE)) +\n",
    "    coord_map() + \n",
    "    labs(x = \"Latitude\"\n",
    "        , y = \"Longitude\"\n",
    "        , title = \"Pickups By Zone\")"
   ]
  },
  {
   "cell_type": "markdown",
   "metadata": {
    "_datascience": {}
   },
   "source": [
    "Insights:\n",
    "* Fill me in with some insightful insights :-)"
   ]
  }
 ],
 "metadata": {
  "_datascience": {
   "notebookId": 905
  },
  "kernelspec": {
   "display_name": "R",
   "language": "R",
   "name": "ir"
  },
  "language_info": {
   "codemirror_mode": "r",
   "file_extension": ".r",
   "mimetype": "text/x-r-source",
   "name": "R",
   "pygments_lexer": "r",
   "version": "3.4.0"
  }
 },
 "nbformat": 4,
 "nbformat_minor": 2
}
